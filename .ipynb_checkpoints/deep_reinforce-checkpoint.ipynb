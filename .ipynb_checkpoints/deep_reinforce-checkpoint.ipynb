{
 "cells": [
  {
   "cell_type": "code",
   "execution_count": null,
   "metadata": {},
   "outputs": [],
   "source": [
    "# pipeline for playing any game with some fixed format\n",
    "# deep reinforcement learning with tensorflow/keras\n",
    "# "
   ]
  },
  {
   "cell_type": "code",
   "execution_count": 1,
   "metadata": {},
   "outputs": [],
   "source": [
    "import gym\n",
    "import numpy as np\n",
    "import tensorflow as tf\n",
    "\n",
    "import random"
   ]
  },
  {
   "cell_type": "code",
   "execution_count": 2,
   "metadata": {},
   "outputs": [],
   "source": [
    "class Game:\n",
    "    \n",
    "    def __init__(self,env,observation_space,action_space):\n",
    "        \n",
    "        # environment parameters\n",
    "        self.env = env\n",
    "        self.observation_space = observation_space\n",
    "        self.action_space = action_space\n",
    "        \n",
    "        # q-learning parameters\n",
    "        self.gamma = 0.4\n",
    "        self.epsilon = 1\n",
    "        self.epsilon_decay = 0.01\n",
    "        self.min_epsilon = 0.1\n",
    "        self.memory = []\n",
    "        \n",
    "        # input is equal to observable variables from environment\n",
    "        self.input_neuron = self.observation_space\n",
    "        # hidden neurons are self defined\n",
    "        self.hidden_neuron = 10\n",
    "        # output neurons is equal to number of actions available\n",
    "        self.output_neuron = self.action_space\n",
    "        \n",
    "        # placeholders that are feeded with actual data in the session\n",
    "        self.x = tf.placeholder(tf.float32,[None,self.input_neuron])\n",
    "        self.y = tf.placeholder(tf.float32,[None,self.output_neuron])\n",
    "        \n",
    "        # getting the model instance\n",
    "        self.model = self.graph()\n",
    "        self.sess = tf.InteractiveSession()\n",
    "        \n",
    "        # defining the loss, train and predic operations\n",
    "        self.loss = tf.reduce_sum(tf.nn.softmax_cross_entropy_with_logits_v2(\n",
    "                             logits=self.model,labels=self.y))\n",
    "        self.training = tf.train.AdamOptimizer(0.1).minimize(self.loss)\n",
    "        self.prediction = self.model[0]\n",
    "        \n",
    "        # starting the session globally\n",
    "        self.sess.run(tf.global_variables_initializer())\n",
    "        \n",
    "    \n",
    "    @staticmethod\n",
    "    def one_hot_encode(y):\n",
    "        y_ = np.zeros((len(y),2))\n",
    "        for i in range(len(y)):\n",
    "            y_[i,y[i][0]]=1\n",
    "        \n",
    "        return y_\n",
    "        \n",
    "    def graph(self):\n",
    "        # three layer graph\n",
    "        # input -> hidden -> output\n",
    "        w1=tf.Variable(tf.random_normal([self.input_neuron,self.hidden_neuron]))\n",
    "        l1=tf.nn.relu(tf.matmul(self.x,w1))\n",
    "        w2=tf.Variable(tf.random_normal([self.hidden_neuron,self.output_neuron]))\n",
    "        l2= tf.matmul(l1,w2) # last layer as linear unit\n",
    "        \n",
    "        return l2\n",
    "        \n",
    "    \n",
    "    def action(self,state):\n",
    "        if(np.random.randn() < self.epsilon):\n",
    "            return self.env.action_space.sample()\n",
    "        else:\n",
    "            next_action = np.argmax(self.sess.run(self.prediction,feed_dict={self.x:state}))\n",
    "            return next_action\n",
    "    \n",
    "    def remember(self,state,action,next_state,reward,done):\n",
    "        self.memory.append([state,action,next_state,reward,done])\n",
    "\n",
    "    def get_memory_size(self):\n",
    "        return len(self.memory)\n",
    "    \n",
    "    def replay(self,batchsize):\n",
    "        dataset = random.sample(self.memory,batchsize)\n",
    "        # training the model\n",
    "        for state,action,next_state,reward,done in dataset:\n",
    "            target = reward\n",
    "            if not done:\n",
    "                target = reward + self.gamma*np.max(self.sess.run(\n",
    "                                        self.prediction,feed_dict={self.x:next_state}))\n",
    "            target_f = self.sess.run(self.prediction,feed_dict={self.x:state})\n",
    "            target_f[action] = reward\n",
    "            target_f = np.reshape(target_f,[-1,2])\n",
    "            self.sess.run(self.training,feed_dict={self.x:state,self.y:target_f})\n",
    "            \n",
    "            \n",
    "        if self.epsilon > self.min_epsilon:\n",
    "            self.epsilon *= self.epsilon_decay"
   ]
  },
  {
   "cell_type": "code",
   "execution_count": 3,
   "metadata": {},
   "outputs": [
    {
     "name": "stderr",
     "output_type": "stream",
     "text": [
      "[2018-04-26 23:22:40,266] Making new env: CartPole-v0\n"
     ]
    },
    {
     "name": "stdout",
     "output_type": "stream",
     "text": [
      "Average no. of steps : 35.42\n"
     ]
    }
   ],
   "source": [
    "env = gym.make('CartPole-v0')\n",
    "observation_space = env.observation_space.shape[0]\n",
    "action_space = env.action_space.n\n",
    "game = Game(env,observation_space,action_space)\n",
    "\n",
    "total_steps = 0\n",
    "for epoch in range(100):\n",
    "    \n",
    "    \n",
    "    # print('Game : {}'.format(epoch))\n",
    "    state = env.reset()\n",
    "    state = np.reshape(state,[1,4])\n",
    "    \n",
    "    steps = 0\n",
    "    # for steps in range(200):\n",
    "    while steps != 200:\n",
    "        env.render()\n",
    "        action = game.action(state)\n",
    "        next_state,reward,done,info = env.step(action)\n",
    "        next_state = np.reshape(next_state,[1,4])\n",
    "        \n",
    "        # saving the data in the memory\n",
    "        game.remember(state,action,next_state,reward,done)\n",
    "        \n",
    "        state = next_state\n",
    "        if(done):\n",
    "            if(steps == 200):\n",
    "                print(\"Game won after {} trials\".format(epoch))\n",
    "            total_steps+=steps\n",
    "            break\n",
    "        steps += 1\n",
    "            \n",
    "    if(game.get_memory_size()>30):\n",
    "        game.replay(30)\n",
    "print(\"Average no. of steps : {}\".format(total_steps/100))\n",
    "    "
   ]
  },
  {
   "cell_type": "code",
   "execution_count": 59,
   "metadata": {},
   "outputs": [],
   "source": [
    "env.close()"
   ]
  },
  {
   "cell_type": "code",
   "execution_count": null,
   "metadata": {},
   "outputs": [],
   "source": []
  }
 ],
 "metadata": {
  "kernelspec": {
   "display_name": "Python 3",
   "language": "python",
   "name": "python3"
  },
  "language_info": {
   "codemirror_mode": {
    "name": "ipython",
    "version": 3
   },
   "file_extension": ".py",
   "mimetype": "text/x-python",
   "name": "python",
   "nbconvert_exporter": "python",
   "pygments_lexer": "ipython3",
   "version": "3.6.5"
  }
 },
 "nbformat": 4,
 "nbformat_minor": 2
}
