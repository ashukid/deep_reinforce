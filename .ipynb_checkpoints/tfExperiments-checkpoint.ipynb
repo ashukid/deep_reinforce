{
 "cells": [
  {
   "cell_type": "code",
   "execution_count": 4,
   "metadata": {},
   "outputs": [],
   "source": [
    "import tensorflow as tf\n",
    "import numpy as np"
   ]
  },
  {
   "cell_type": "code",
   "execution_count": 61,
   "metadata": {},
   "outputs": [
    {
     "data": {
      "text/plain": [
       "(8, 2)"
      ]
     },
     "execution_count": 61,
     "metadata": {},
     "output_type": "execute_result"
    }
   ],
   "source": [
    "xTrain = np.array([[0,0,0],[0,0,1],[0,1,0],[0,1,1],[1,0,0],[1,0,1],[1,1,0],[1,1,1]])\n",
    "yTrain = np.array([[0],[1],[1],[0],[1],[0],[0],[1]])\n",
    "# xTrain = np.array([[0,0],[0,1],[1,0],[1,1]])\n",
    "# yTrain = np.array([[0],[1],[1],[0]])\n",
    "yTrain = one_hot_convert(yTrain)\n",
    "yTrain.shape"
   ]
  },
  {
   "cell_type": "code",
   "execution_count": 5,
   "metadata": {},
   "outputs": [],
   "source": [
    "# number of input neurons\n",
    "input_neuron = len(xTrain[0])\n",
    "\n",
    "# number of hidden neurons\n",
    "hidden_neuron1 = 20\n",
    "hidden_neuron2 = 20\n",
    "\n",
    "# number of output neurons\n",
    "# output is either 0 or 1\n",
    "# output will be one hot encoded\n",
    "# that is 1 = [0,1] and 0 = [1,0]\n",
    "# so total 2 neurons for output\n",
    "output_neuron = 2\n",
    "\n",
    "\n",
    "# defining the weights and bias for input to hidden layer 1\n",
    "layer1 = {'weights':tf.Variable(tf.random_uniform([input_neuron,hidden_neuron1])),\n",
    "         'bias':tf.Variable(tf.random_uniform([hidden_neuron1]))}\n",
    "layer2 = {'weights':tf.Variable(tf.random_uniform([hidden_neuron1,hidden_neuron2])),\n",
    "         'bias':tf.Variable(tf.random_uniform([hidden_neuron2]))}\n",
    "\n",
    "# wieghts and bias for hidden layer 1 to output layer\n",
    "layer3 = {'weights':tf.Variable(tf.random_uniform([hidden_neuron2,output_neuron])),\n",
    "         'bias':tf.Variable(tf.random_uniform([output_neuron]))}\n",
    "\n",
    "# placeholders that will be substitued with \n",
    "# training data during the session\n",
    "# size = [total_rows_in_data, total_columns in data]\n",
    "# x for input\n",
    "# y for output\n",
    "x = tf.placeholder(tf.float32,[None,input_neuron]) \n",
    "y = tf.placeholder(tf.float32,[None,output_neuron])\n",
    "\n",
    "# the graph\n",
    "# layer 1 (input -> hidden layer 1)\n",
    "layer_1 = tf.matmul(x,layer1[\"weights\"])+layer1[\"bias\"]\n",
    "layer_1 = tf.nn.relu(layer_1)\n",
    "\n",
    "layer_2 = tf.matmul(layer_1,layer2[\"weights\"])+layer2[\"bias\"]\n",
    "layer_2 = tf.nn.relu(layer_2)\n",
    "\n",
    "# layer 2 (hidden layer 1 -> output layer)\n",
    "output = tf.matmul(layer_2,layer3[\"weights\"])+layer3[\"bias\"]\n",
    "output = tf.nn.softmax(output)"
   ]
  },
  {
   "cell_type": "code",
   "execution_count": 16,
   "metadata": {},
   "outputs": [
    {
     "name": "stdout",
     "output_type": "stream",
     "text": [
      "[[9.9999893e-01 1.0944162e-06]\n",
      " [1.0000000e+00 1.4970854e-12]\n",
      " [1.0000000e+00 4.6348030e-12]\n",
      " [1.0000000e+00 6.3397922e-18]\n",
      " [1.0000000e+00 2.3952396e-12]\n",
      " [1.0000000e+00 3.2765180e-18]\n",
      " [1.0000000e+00 1.0143643e-17]\n",
      " [1.0000000e+00 1.3875574e-23]]\n"
     ]
    }
   ],
   "source": [
    "# cross_entropy = -tf.reduce_sum(y*tf.log(output))\n",
    "cross_entropy = tf.reduce_sum(tf.nn.softmax_cross_entropy_with_logits_v2(labels=y,logits=output))\n",
    "optimizer = tf.train.GradientDescentOptimizer(0.2).minimize(cross_entropy)\n",
    "\n",
    "sess = tf.InteractiveSession()\n",
    "sess.run(tf.global_variables_initializer())\n",
    "for epoch in range(6000):\n",
    "    sess.run(optimizer,feed_dict={x:xTrain, y:yTrain})\n",
    "\n",
    "print(sess.run(output,feed_dict={x:xTrain,y:yTrain}))\n",
    "# argmax along dim-1\n",
    "correct_prediction = tf.equal(tf.argmax(y, 1), tf.argmax(output, 1))\n",
    "\n",
    "# # [True, False, True, True] -> [1,0,1,1] -> 0.75.\n",
    "accuracy = tf.reduce_mean(tf.cast(correct_prediction, tf.float32))\n",
    "train_accuracy = accuracy.eval(feed_dict={x:xTrain, y:yTrain})\n",
    "print('After step %d, training accuracy %g' % (epoch, train_accuracy))"
   ]
  },
  {
   "cell_type": "code",
   "execution_count": 21,
   "metadata": {},
   "outputs": [],
   "source": [
    "# sess = tf.InteractiveSession()\n",
    "# sess.run(tf.global_variables_initializer())\n",
    "# sess.run(output,feed_dict={x:xTrain,y:yTrain})"
   ]
  },
  {
   "cell_type": "code",
   "execution_count": 8,
   "metadata": {},
   "outputs": [
    {
     "data": {
      "text/plain": [
       "array([[0., 0., 0.],\n",
       "       [0., 0., 0.]])"
      ]
     },
     "execution_count": 8,
     "metadata": {},
     "output_type": "execute_result"
    }
   ],
   "source": [
    "import numpy as np\n",
    "x = np.zeros((2,3))\n",
    "x"
   ]
  },
  {
   "cell_type": "code",
   "execution_count": 62,
   "metadata": {
    "scrolled": true
   },
   "outputs": [],
   "source": [
    "class Model:\n",
    "    \n",
    "    \n",
    "    def __init__(self,input_neuron=2,hidden_neuron=10,output_neuron=2):\n",
    "        self.input_neuron = input_neuron\n",
    "        self.hidden_neuron = hidden_neuron\n",
    "        self.output_neuron = output_neuron\n",
    "        self.x = tf.placeholder(tf.float32,[None,self.input_neuron])\n",
    "        self.y = tf.placeholder(tf.float32,[None,self.output_neuron])\n",
    "        self.model = self.graph()\n",
    "        self.sess = tf.InteractiveSession()\n",
    "        self.loss = tf.reduce_sum(tf.nn.softmax_cross_entropy_with_logits_v2(\n",
    "                             logits=self.model,labels=self.y))\n",
    "        self.training = tf.train.AdamOptimizer(0.1).minimize(self.loss)\n",
    "        self.prediction = tf.argmax(self.model,1)\n",
    "        self.accuracy = tf.equal(tf.argmax(self.y,1),tf.argmax(self.model,1))\n",
    "        self.accuracy = tf.reduce_mean(tf.cast(self.accuracy,tf.float32))\n",
    "        self.sess.run(tf.global_variables_initializer())\n",
    "        \n",
    "    \n",
    "    @staticmethod\n",
    "    def one_hot_encode(y):\n",
    "        y_ = np.zeros((len(y),2))\n",
    "        for i in range(len(y)):\n",
    "            y_[i,y[i][0]]=1\n",
    "        \n",
    "        return y_\n",
    "    \n",
    "    def graph(self):\n",
    "        w1=tf.Variable(tf.random_normal([self.input_neuron,self.hidden_neuron]))\n",
    "        l1=tf.nn.relu(tf.matmul(self.x,w1))\n",
    "        w2=tf.Variable(tf.random_normal([self.hidden_neuron,self.output_neuron]))\n",
    "        l2=tf.nn.softmax(tf.matmul(l1,w2))\n",
    "        \n",
    "        return l2\n",
    "        \n",
    "    def train(self,xTrain,yTrain):\n",
    "        yTrain = self.one_hot_encode(yTrain)\n",
    "        # for epoch in range(100):\n",
    "        self.sess.run(self.training,feed_dict={self.x:xTrain,self.y:yTrain})\n",
    "        print(self.sess.run(self.accuracy,feed_dict={self.x:xTrain,self.y:yTrain}))\n",
    "        print(self.sess.run(self.model,feed_dict={self.x:xTest}))\n",
    "        \n",
    "    def predict(self,xTest):\n",
    "        # print(self.sess.run(self.model,feed_dict={self.x:xTest}))\n",
    "        return self.sess.run(self.prediction,feed_dict={self.x:xTest}) \n",
    "    \n",
    "                               "
   ]
  },
  {
   "cell_type": "code",
   "execution_count": 82,
   "metadata": {},
   "outputs": [],
   "source": [
    "model = Model()\n",
    "xTrain = np.array([[0,0],[0,1],[1,0],[1,1]])\n",
    "yTrain = np.array([[0],[1],[1],[0]])"
   ]
  },
  {
   "cell_type": "code",
   "execution_count": 83,
   "metadata": {},
   "outputs": [
    {
     "name": "stdout",
     "output_type": "stream",
     "text": [
      "0.5\n",
      "0.75\n",
      "0.75\n",
      "1.0\n",
      "1.0\n",
      "1.0\n",
      "1.0\n",
      "1.0\n",
      "1.0\n",
      "1.0\n"
     ]
    },
    {
     "data": {
      "text/plain": [
       "array([0, 1, 1, 0])"
      ]
     },
     "execution_count": 83,
     "metadata": {},
     "output_type": "execute_result"
    }
   ],
   "source": [
    "for i in range(10):\n",
    "    model.train(xTrain,yTrain)\n",
    "model.predict(xTrain)"
   ]
  },
  {
   "cell_type": "code",
   "execution_count": null,
   "metadata": {},
   "outputs": [],
   "source": []
  }
 ],
 "metadata": {
  "kernelspec": {
   "display_name": "Python 3",
   "language": "python",
   "name": "python3"
  },
  "language_info": {
   "codemirror_mode": {
    "name": "ipython",
    "version": 3
   },
   "file_extension": ".py",
   "mimetype": "text/x-python",
   "name": "python",
   "nbconvert_exporter": "python",
   "pygments_lexer": "ipython3",
   "version": "3.6.5"
  }
 },
 "nbformat": 4,
 "nbformat_minor": 2
}
