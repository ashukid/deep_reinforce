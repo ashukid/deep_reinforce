{
 "cells": [
  {
   "cell_type": "code",
   "execution_count": 21,
   "metadata": {},
   "outputs": [],
   "source": [
    "import gym\n",
    "import numpy as np\n",
    "from keras.layers import Dense,Activation\n",
    "from keras.models import Sequential\n",
    "\n",
    "import random"
   ]
  },
  {
   "cell_type": "code",
   "execution_count": 22,
   "metadata": {},
   "outputs": [],
   "source": [
    "# remember -> saving the bot experience\n",
    "# replay - > tranining on minibatches\n",
    "# get action -> get the next action\n",
    "# model -> neural network for computing the q value\n",
    "\n",
    "# parameters -> obsrvation_size, action_size\n",
    "\n",
    "class Game:\n",
    "    \n",
    "    def __init__(self,observation_space,action_space):\n",
    "        \n",
    "        self.observation_space = observation_space\n",
    "        self.action_space = action_space\n",
    "        self.gamma = 0.6\n",
    "        self.learning_rate = 0.01\n",
    "        self.memory = []\n",
    "        self.model = self.dqn_model()\n",
    "        self.epsilon = 1.0  # exploration rate\n",
    "        self.epsilon_min = 0.01\n",
    "        self.epsilon_decay = 0.995\n",
    "        \n",
    "    \n",
    "    def dqn_model(self):\n",
    "        \n",
    "        model = Sequential()\n",
    "        model.add(Dense(24,input_dim=self.observation_space,activation='relu'))\n",
    "        model.add(Dense(24,activation='relu'))\n",
    "        model.add(Dense(self.action_space,activation='linear'))\n",
    "        model.compile(loss='mse',optimizer='adam')\n",
    "        \n",
    "        return model\n",
    "    \n",
    "    def action(self,state):\n",
    "        # epsilon greedy approach\n",
    "        if(np.random.rand() < self.epsilon):\n",
    "            return random.randrange(self.action_space)\n",
    "        \n",
    "        act = self.model.predict(state)\n",
    "        return np.argmax(act[0])\n",
    "    \n",
    "    \n",
    "    def remember(self,state,action,reward,next_state,done):\n",
    "        self.memory.append([state,action,reward,next_state,done])\n",
    "        \n",
    "    \n",
    "    def replay(self,batch_size):\n",
    "        minibatch = random.sample(self.memory,batch_size)\n",
    "        for state,action,reward,next_state,done in minibatch:\n",
    "            target = reward\n",
    "            if not done:\n",
    "                target = reward + self.gamma*(np.max(self.model.predict(next_state)[0]))\n",
    "                \n",
    "            target_f = self.model.predict(state)\n",
    "            target_f[0][action] = target\n",
    "            self.model.fit(state, target_f, epochs=1, verbose=0)\n",
    "            if self.epsilon > self.epsilon_min:\n",
    "                self.epsilon *= self.epsilon_decay\n",
    "        "
   ]
  },
  {
   "cell_type": "code",
   "execution_count": 26,
   "metadata": {},
   "outputs": [
    {
     "name": "stderr",
     "output_type": "stream",
     "text": [
      "[2018-04-26 00:09:57,193] Making new env: Enduro-ram-v0\n"
     ]
    },
    {
     "name": "stdout",
     "output_type": "stream",
     "text": [
      "Game : 0\n",
      "Game : 1\n",
      "Game : 2\n",
      "Game : 3\n",
      "Game : 4\n",
      "Game : 5\n",
      "Game : 6\n",
      "Game : 7\n",
      "Game : 8\n",
      "Game : 9\n"
     ]
    }
   ],
   "source": [
    "env = gym.make('Enduro-ram-v0')\n",
    "observation_space = env.observation_space.shape[0]\n",
    "action_space = env.action_space.n\n",
    "agent = Game(observation_space,action_space)\n",
    "\n",
    "for episodes in range(10):\n",
    "    \n",
    "    print('Game : {}'.format(episodes))\n",
    "    state = env.reset()\n",
    "    state = np.reshape(state,[1,observation_space])\n",
    "    # env.render()\n",
    "    \n",
    "    for steps in range(200):\n",
    "        \n",
    "        env.render()\n",
    "        action = agent.action(state)\n",
    "        next_state,reward,done,info = env.step(action)\n",
    "        next_state = np.reshape(next_state,[1,observation_space])\n",
    "        \n",
    "        agent.remember(state,action,reward,next_state,done)\n",
    "        \n",
    "        state = next_state\n",
    "        \n",
    "        if done:\n",
    "            print('steps : {}'.format(steps))\n",
    "            break\n",
    "    \n",
    "    # train the agent based on the experience\n",
    "    agent.replay(10)"
   ]
  },
  {
   "cell_type": "code",
   "execution_count": 27,
   "metadata": {},
   "outputs": [],
   "source": [
    "env.close()"
   ]
  },
  {
   "cell_type": "code",
   "execution_count": 7,
   "metadata": {},
   "outputs": [
    {
     "name": "stdout",
     "output_type": "stream",
     "text": [
      "_________________________________________________________________\n",
      "Layer (type)                 Output Shape              Param #   \n",
      "=================================================================\n",
      "dense_7 (Dense)              (None, 24)                120       \n",
      "_________________________________________________________________\n",
      "dense_8 (Dense)              (None, 24)                600       \n",
      "_________________________________________________________________\n",
      "dense_9 (Dense)              (None, 2)                 50        \n",
      "=================================================================\n",
      "Total params: 770\n",
      "Trainable params: 770\n",
      "Non-trainable params: 0\n",
      "_________________________________________________________________\n"
     ]
    }
   ],
   "source": [
    "model = Sequential()\n",
    "model.add(Dense(24,input_dim=4,activation='relu'))\n",
    "model.add(Dense(24,activation='relu'))\n",
    "model.add(Dense(2,activation='linear'))\n",
    "model.summary()\n",
    "# model.compile(loss='mse',optimizer='adam')\n",
    "\n",
    "# x=np.array([[1,2,3,4],[2,3,4,5]])\n",
    "# y=np.array([[0,1],[1,0]])\n",
    "# model.fit(x,y,epochs=1)\n",
    "# model.predict(np.array([[2,4,5,1]]))\n",
    "# model"
   ]
  },
  {
   "cell_type": "code",
   "execution_count": 12,
   "metadata": {},
   "outputs": [
    {
     "name": "stderr",
     "output_type": "stream",
     "text": [
      "[2018-04-26 00:06:27,849] Making new env: Enduro-ram-v0\n"
     ]
    }
   ],
   "source": [
    "env = gym.make('Enduro-ram-v0')"
   ]
  },
  {
   "cell_type": "code",
   "execution_count": 19,
   "metadata": {},
   "outputs": [
    {
     "data": {
      "text/plain": [
       "Discrete(9)"
      ]
     },
     "execution_count": 19,
     "metadata": {},
     "output_type": "execute_result"
    }
   ],
   "source": []
  },
  {
   "cell_type": "code",
   "execution_count": null,
   "metadata": {},
   "outputs": [],
   "source": []
  }
 ],
 "metadata": {
  "kernelspec": {
   "display_name": "Python 3",
   "language": "python",
   "name": "python3"
  },
  "language_info": {
   "codemirror_mode": {
    "name": "ipython",
    "version": 3
   },
   "file_extension": ".py",
   "mimetype": "text/x-python",
   "name": "python",
   "nbconvert_exporter": "python",
   "pygments_lexer": "ipython3",
   "version": "3.6.5"
  }
 },
 "nbformat": 4,
 "nbformat_minor": 2
}
